{
 "cells": [
  {
   "cell_type": "markdown",
   "metadata": {},
   "source": [
    "# Task description\n",
    "\n",
    "Given a dataset for product type classification, the task is to build a model to predict the column label, using the other columns as input.\n",
    "\n",
    "Column explanations:\n",
    "- sku_id – product id\n",
    "- country_name – name of the country in which the product was found\n",
    "- retailer – name of the retailer in which the product was found\n",
    "- breadcrumbs – breadcrumbs, where breadcrumbs show the path of the product in the retailer\n",
    "taxonomy tree\n",
    "- breadcrumbs_t – translated breadcrumbs\n",
    "- name – name of the product\n",
    "- name_t – translated name\n",
    "- pack_size – pack size field of the product\n",
    "- pack_size_t – translated pack size\n",
    "- description_short – product description, possibly truncated to keep maximum length fixed\n",
    "- description_t_short – translated description\n",
    "- resnet50_labels_005 – categories predicted by an image classifier, thresholded at 0.05 confidence\n",
    "- resnet50_labels_06 – categories predicted by an image classifier, thresholded at 0.6 confidence\n",
    "- price – price of the product in USD\n",
    "- label – product type, this is the target to predict"
   ]
  },
  {
   "cell_type": "markdown",
   "metadata": {},
   "source": [
    "# Make necessary imports"
   ]
  },
  {
   "cell_type": "code",
   "execution_count": 1,
   "metadata": {},
   "outputs": [],
   "source": [
    "import pandas as pd\n",
    "import numpy as np\n",
    "\n",
    "import seaborn as sns\n",
    "import matplotlib.pyplot as plt\n",
    "\n",
    "from sklearn.base import BaseEstimator, TransformerMixin\n",
    "from sklearn.impute import SimpleImputer\n",
    "from sklearn.preprocessing import MinMaxScaler, MaxAbsScaler, StandardScaler, KBinsDiscretizer, LabelEncoder, OneHotEncoder\n",
    "from sklearn.feature_extraction.text import TfidfVectorizer\n",
    "\n",
    "from sklearn.neighbors import KNeighborsClassifier\n",
    "from sklearn.linear_model import LogisticRegression\n",
    "from sklearn.multiclass import OneVsRestClassifier\n",
    "\n",
    "from sklearn.pipeline import Pipeline\n",
    "from sklearn.compose import ColumnTransformer\n",
    "\n",
    "from sklearn.model_selection import train_test_split, RandomizedSearchCV, GridSearchCV, StratifiedKFold, RepeatedStratifiedKFold\n",
    "\n",
    "from sklearn import set_config, metrics\n",
    "from sklearn.metrics import roc_auc_score, confusion_matrix"
   ]
  },
  {
   "cell_type": "markdown",
   "metadata": {},
   "source": [
    "# Load data"
   ]
  },
  {
   "cell_type": "code",
   "execution_count": 2,
   "metadata": {},
   "outputs": [
    {
     "data": {
      "text/html": [
       "<div>\n",
       "<style scoped>\n",
       "    .dataframe tbody tr th:only-of-type {\n",
       "        vertical-align: middle;\n",
       "    }\n",
       "\n",
       "    .dataframe tbody tr th {\n",
       "        vertical-align: top;\n",
       "    }\n",
       "\n",
       "    .dataframe thead th {\n",
       "        text-align: right;\n",
       "    }\n",
       "</style>\n",
       "<table border=\"1\" class=\"dataframe\">\n",
       "  <thead>\n",
       "    <tr style=\"text-align: right;\">\n",
       "      <th></th>\n",
       "      <th>sku_id</th>\n",
       "      <th>country_name</th>\n",
       "      <th>retailer</th>\n",
       "      <th>breadcrumbs</th>\n",
       "      <th>breadcrumbs_t</th>\n",
       "      <th>name</th>\n",
       "      <th>name_t</th>\n",
       "      <th>pack_size</th>\n",
       "      <th>pack_size_t</th>\n",
       "      <th>description_short</th>\n",
       "      <th>description_t_short</th>\n",
       "      <th>resnet50_labels_005</th>\n",
       "      <th>resnet50_labels_06</th>\n",
       "      <th>price</th>\n",
       "      <th>label</th>\n",
       "    </tr>\n",
       "  </thead>\n",
       "  <tbody>\n",
       "    <tr>\n",
       "      <th>0</th>\n",
       "      <td>5391778</td>\n",
       "      <td>USA</td>\n",
       "      <td>CVS</td>\n",
       "      <td>[\"Household &amp; Grocery\",\"School &amp; Office Suppli...</td>\n",
       "      <td>[\"Household &amp; Grocery\",\"School &amp; Office Suppli...</td>\n",
       "      <td>Pilot G2 Fine Point Rolling Ball Gel Pens Black</td>\n",
       "      <td>Pilot G2 Fine Point Rolling Ball Gel Pens Black</td>\n",
       "      <td>5 EA</td>\n",
       "      <td>5 EA</td>\n",
       "      <td>gel ink. america's no. 1 selling gel pen (sour...</td>\n",
       "      <td>gel ink. america's no. 1 selling gel pen (sour...</td>\n",
       "      <td>carpenter's_kit~comic_book~screwdriver</td>\n",
       "      <td>screwdriver</td>\n",
       "      <td>8.29</td>\n",
       "      <td>OUT OF SCOPE</td>\n",
       "    </tr>\n",
       "    <tr>\n",
       "      <th>1</th>\n",
       "      <td>5908751</td>\n",
       "      <td>USA</td>\n",
       "      <td>CVS</td>\n",
       "      <td>[\"Sexual Health\",\"Moisturizers &amp; Lubricants\"]</td>\n",
       "      <td>[\"Sexual Health\",\"Moisturizers &amp; Lubricants\"]</td>\n",
       "      <td>K-Y Liquid Personal Water Based Lubricant, 2.5 OZ</td>\n",
       "      <td>K-Y Liquid Personal Water Based Lubricant, 2.5 OZ</td>\n",
       "      <td>2.5 OZ</td>\n",
       "      <td>2.5 OZ</td>\n",
       "      <td>from the #1 doctor recommended and most truste...</td>\n",
       "      <td>from the #1 doctor recommended and most truste...</td>\n",
       "      <td>lotion~nipple~paper_towel~plastic_bag~sunscreen</td>\n",
       "      <td>NaN</td>\n",
       "      <td>9.29</td>\n",
       "      <td>OUT OF SCOPE</td>\n",
       "    </tr>\n",
       "    <tr>\n",
       "      <th>2</th>\n",
       "      <td>20197418</td>\n",
       "      <td>USA</td>\n",
       "      <td>CVS</td>\n",
       "      <td>[\"Home Health Care\",\"Braces &amp; Supports\"]</td>\n",
       "      <td>[\"Home Health Care\",\"Braces &amp; Supports\"]</td>\n",
       "      <td>Scott Specialties Lumbosacral Support with Ins...</td>\n",
       "      <td>Scott Specialties Lumbosacral Support with Ins...</td>\n",
       "      <td>1 CT</td>\n",
       "      <td>1 CT</td>\n",
       "      <td>36 in. to 44 in.white colorthis double-ply 3-p...</td>\n",
       "      <td>36 in. to 44 in.white colorthis double-ply 3-p...</td>\n",
       "      <td>cocktail_shaker~hoopskirt~lampshade</td>\n",
       "      <td>NaN</td>\n",
       "      <td>31.99</td>\n",
       "      <td>OUT OF SCOPE</td>\n",
       "    </tr>\n",
       "    <tr>\n",
       "      <th>3</th>\n",
       "      <td>20840765</td>\n",
       "      <td>USA</td>\n",
       "      <td>CVS</td>\n",
       "      <td>[\"Household &amp; Grocery\",\"Outdoor &amp; Garden\"]</td>\n",
       "      <td>[\"Household &amp; Grocery\",\"Outdoor &amp; Garden\"]</td>\n",
       "      <td>OFF! Deep Woods Insect Repellent Towelettes wi...</td>\n",
       "      <td>OFF! Deep Woods Insect Repellent Towelettes wi...</td>\n",
       "      <td>12 CT</td>\n",
       "      <td>12 CT</td>\n",
       "      <td>off! deep woods towelettes are formulated with...</td>\n",
       "      <td>off! deep woods towelettes are formulated with...</td>\n",
       "      <td>packet~web_site</td>\n",
       "      <td>NaN</td>\n",
       "      <td>7.29</td>\n",
       "      <td>OUT OF SCOPE</td>\n",
       "    </tr>\n",
       "    <tr>\n",
       "      <th>4</th>\n",
       "      <td>120858</td>\n",
       "      <td>USA</td>\n",
       "      <td>CVS</td>\n",
       "      <td>[\"Vitamins\",\"Herbals\"]</td>\n",
       "      <td>[\"Vitamins\",\"Herbals\"]</td>\n",
       "      <td>Nature's Answer Damiana Leaf Vegetarian Capsul...</td>\n",
       "      <td>Nature's Answer Damiana Leaf Vegetarian Capsul...</td>\n",
       "      <td>90 CT</td>\n",
       "      <td>90 CT</td>\n",
       "      <td>nature's answer capsules feature the highest q...</td>\n",
       "      <td>nature's answer capsules feature the highest q...</td>\n",
       "      <td>face_powder~pill_bottle~sunscreen</td>\n",
       "      <td>pill_bottle</td>\n",
       "      <td>8.49</td>\n",
       "      <td>OUT OF SCOPE</td>\n",
       "    </tr>\n",
       "  </tbody>\n",
       "</table>\n",
       "</div>"
      ],
      "text/plain": [
       "     sku_id country_name retailer  \\\n",
       "0   5391778          USA      CVS   \n",
       "1   5908751          USA      CVS   \n",
       "2  20197418          USA      CVS   \n",
       "3  20840765          USA      CVS   \n",
       "4    120858          USA      CVS   \n",
       "\n",
       "                                         breadcrumbs  \\\n",
       "0  [\"Household & Grocery\",\"School & Office Suppli...   \n",
       "1      [\"Sexual Health\",\"Moisturizers & Lubricants\"]   \n",
       "2           [\"Home Health Care\",\"Braces & Supports\"]   \n",
       "3         [\"Household & Grocery\",\"Outdoor & Garden\"]   \n",
       "4                             [\"Vitamins\",\"Herbals\"]   \n",
       "\n",
       "                                       breadcrumbs_t  \\\n",
       "0  [\"Household & Grocery\",\"School & Office Suppli...   \n",
       "1      [\"Sexual Health\",\"Moisturizers & Lubricants\"]   \n",
       "2           [\"Home Health Care\",\"Braces & Supports\"]   \n",
       "3         [\"Household & Grocery\",\"Outdoor & Garden\"]   \n",
       "4                             [\"Vitamins\",\"Herbals\"]   \n",
       "\n",
       "                                                name  \\\n",
       "0    Pilot G2 Fine Point Rolling Ball Gel Pens Black   \n",
       "1  K-Y Liquid Personal Water Based Lubricant, 2.5 OZ   \n",
       "2  Scott Specialties Lumbosacral Support with Ins...   \n",
       "3  OFF! Deep Woods Insect Repellent Towelettes wi...   \n",
       "4  Nature's Answer Damiana Leaf Vegetarian Capsul...   \n",
       "\n",
       "                                              name_t pack_size pack_size_t  \\\n",
       "0    Pilot G2 Fine Point Rolling Ball Gel Pens Black      5 EA        5 EA   \n",
       "1  K-Y Liquid Personal Water Based Lubricant, 2.5 OZ    2.5 OZ      2.5 OZ   \n",
       "2  Scott Specialties Lumbosacral Support with Ins...      1 CT        1 CT   \n",
       "3  OFF! Deep Woods Insect Repellent Towelettes wi...     12 CT       12 CT   \n",
       "4  Nature's Answer Damiana Leaf Vegetarian Capsul...     90 CT       90 CT   \n",
       "\n",
       "                                   description_short  \\\n",
       "0  gel ink. america's no. 1 selling gel pen (sour...   \n",
       "1  from the #1 doctor recommended and most truste...   \n",
       "2  36 in. to 44 in.white colorthis double-ply 3-p...   \n",
       "3  off! deep woods towelettes are formulated with...   \n",
       "4  nature's answer capsules feature the highest q...   \n",
       "\n",
       "                                 description_t_short  \\\n",
       "0  gel ink. america's no. 1 selling gel pen (sour...   \n",
       "1  from the #1 doctor recommended and most truste...   \n",
       "2  36 in. to 44 in.white colorthis double-ply 3-p...   \n",
       "3  off! deep woods towelettes are formulated with...   \n",
       "4  nature's answer capsules feature the highest q...   \n",
       "\n",
       "                               resnet50_labels_005 resnet50_labels_06  price  \\\n",
       "0           carpenter's_kit~comic_book~screwdriver        screwdriver   8.29   \n",
       "1  lotion~nipple~paper_towel~plastic_bag~sunscreen                NaN   9.29   \n",
       "2              cocktail_shaker~hoopskirt~lampshade                NaN  31.99   \n",
       "3                                  packet~web_site                NaN   7.29   \n",
       "4                face_powder~pill_bottle~sunscreen        pill_bottle   8.49   \n",
       "\n",
       "          label  \n",
       "0  OUT OF SCOPE  \n",
       "1  OUT OF SCOPE  \n",
       "2  OUT OF SCOPE  \n",
       "3  OUT OF SCOPE  \n",
       "4  OUT OF SCOPE  "
      ]
     },
     "execution_count": 2,
     "metadata": {},
     "output_type": "execute_result"
    }
   ],
   "source": [
    "df = pd.read_csv('data/products/train.csv')\n",
    "\n",
    "df.head()"
   ]
  },
  {
   "cell_type": "code",
   "execution_count": 3,
   "metadata": {},
   "outputs": [
    {
     "data": {
      "text/html": [
       "<div>\n",
       "<style scoped>\n",
       "    .dataframe tbody tr th:only-of-type {\n",
       "        vertical-align: middle;\n",
       "    }\n",
       "\n",
       "    .dataframe tbody tr th {\n",
       "        vertical-align: top;\n",
       "    }\n",
       "\n",
       "    .dataframe thead th {\n",
       "        text-align: right;\n",
       "    }\n",
       "</style>\n",
       "<table border=\"1\" class=\"dataframe\">\n",
       "  <thead>\n",
       "    <tr style=\"text-align: right;\">\n",
       "      <th></th>\n",
       "      <th>sku_id</th>\n",
       "      <th>country_name</th>\n",
       "      <th>retailer</th>\n",
       "      <th>breadcrumbs</th>\n",
       "      <th>breadcrumbs_t</th>\n",
       "      <th>name</th>\n",
       "      <th>name_t</th>\n",
       "      <th>pack_size</th>\n",
       "      <th>pack_size_t</th>\n",
       "      <th>description_short</th>\n",
       "      <th>description_t_short</th>\n",
       "      <th>resnet50_labels_005</th>\n",
       "      <th>resnet50_labels_06</th>\n",
       "      <th>price</th>\n",
       "      <th>label</th>\n",
       "    </tr>\n",
       "  </thead>\n",
       "  <tbody>\n",
       "    <tr>\n",
       "      <th>4973</th>\n",
       "      <td>158187042</td>\n",
       "      <td>United Arab Emirates</td>\n",
       "      <td>Carrefour</td>\n",
       "      <td>[\"Fresh Food\",\"Dairy &amp; Eggs\",\"Yoghurt &amp; Chille...</td>\n",
       "      <td>[\"Fresh Food\",\"Dairy &amp; Eggs\",\"Yoghurt\",\"Plain ...</td>\n",
       "      <td>Al Rawabi Fresh Yoghurt Low Fat 90g</td>\n",
       "      <td>Al Rawabi Fresh yogurt Low Fat 90g</td>\n",
       "      <td>90g</td>\n",
       "      <td>90g</td>\n",
       "      <td>100% pure cow's milk. milk is good source of c...</td>\n",
       "      <td>the al rawabi fresh yogurt low fat weighs 90g....</td>\n",
       "      <td>bucket~lotion~measuring_cup~nipple~paper_towel...</td>\n",
       "      <td>NaN</td>\n",
       "      <td>0.217984</td>\n",
       "      <td>Plain Yoghurt</td>\n",
       "    </tr>\n",
       "    <tr>\n",
       "      <th>4974</th>\n",
       "      <td>214040377</td>\n",
       "      <td>United Arab Emirates</td>\n",
       "      <td>Nespresso</td>\n",
       "      <td>[\"Accessories\",\"Original\"]</td>\n",
       "      <td>[\"Accessories\",\"Original\"]</td>\n",
       "      <td>Touch travel mug, Limited Edition Festive</td>\n",
       "      <td>Touch travel mug, Limited Edition Festive</td>\n",
       "      <td>NaN</td>\n",
       "      <td>NaN</td>\n",
       "      <td>touch travel mug is a must-have coffee accesso...</td>\n",
       "      <td>touch travel mug is a must-have coffee accesso...</td>\n",
       "      <td>breastplate~bucket~coffeepot~drum~space_heater</td>\n",
       "      <td>NaN</td>\n",
       "      <td>26.975477</td>\n",
       "      <td>OUT OF SCOPE</td>\n",
       "    </tr>\n",
       "    <tr>\n",
       "      <th>4975</th>\n",
       "      <td>64366667</td>\n",
       "      <td>United Arab Emirates</td>\n",
       "      <td>Net-A-Porter</td>\n",
       "      <td>[\"Clothing\",\"Pants\",\"Cropped\"]</td>\n",
       "      <td>[\"Clothing\",\"Pants\",\"Cropped\"]</td>\n",
       "      <td>Tatum stretch-twill striped pants</td>\n",
       "      <td>Tatum stretch-twill striped pants</td>\n",
       "      <td>NaN</td>\n",
       "      <td>NaN</td>\n",
       "      <td>cefinn tatum stretch-twill striped pants £167</td>\n",
       "      <td>cefinn tatum stretch-twill striped pants ps167</td>\n",
       "      <td>pajama~suit~swimming_trunks~velvet</td>\n",
       "      <td>NaN</td>\n",
       "      <td>210.728950</td>\n",
       "      <td>OUT OF SCOPE</td>\n",
       "    </tr>\n",
       "    <tr>\n",
       "      <th>4976</th>\n",
       "      <td>57031623</td>\n",
       "      <td>United Arab Emirates</td>\n",
       "      <td>LuLu Webstore</td>\n",
       "      <td>[\"Health &amp; Beauty\",\"Shower &amp; Bath\"]</td>\n",
       "      <td>[\"Health &amp; Beauty\",\"Shower &amp; Bath\"]</td>\n",
       "      <td>Home Mate Bath Cap 924 1pc</td>\n",
       "      <td>Home Mate Bath Cap 924 1pc</td>\n",
       "      <td>1 Pc</td>\n",
       "      <td>1 Pc</td>\n",
       "      <td>bath cap soft and comfortable</td>\n",
       "      <td>bath cap soft and comfortable</td>\n",
       "      <td>shower_cap</td>\n",
       "      <td>shower_cap</td>\n",
       "      <td>1.089918</td>\n",
       "      <td>OUT OF SCOPE</td>\n",
       "    </tr>\n",
       "    <tr>\n",
       "      <th>4977</th>\n",
       "      <td>199697125</td>\n",
       "      <td>United Arab Emirates</td>\n",
       "      <td>LuLu Webstore</td>\n",
       "      <td>[\"Fresh Food\",\"Dairy, Eggs &amp; Cheese\",\"Fresh Da...</td>\n",
       "      <td>[\"Fresh Food\",\"Dairy, Eggs &amp; Cheese\",\"Fresh Da...</td>\n",
       "      <td>Activia Stirred Yoghurt Plain 125g</td>\n",
       "      <td>Activia Stirred Yoghurt Plain 125g</td>\n",
       "      <td>1 pc</td>\n",
       "      <td>1 pc</td>\n",
       "      <td>stirred yoghurt plain , product description co...</td>\n",
       "      <td>stirred yoghurt plain , product description co...</td>\n",
       "      <td>ashcan~lotion~packet~paper_towel</td>\n",
       "      <td>NaN</td>\n",
       "      <td>0.435967</td>\n",
       "      <td>Plain Yoghurt</td>\n",
       "    </tr>\n",
       "  </tbody>\n",
       "</table>\n",
       "</div>"
      ],
      "text/plain": [
       "         sku_id          country_name       retailer  \\\n",
       "4973  158187042  United Arab Emirates      Carrefour   \n",
       "4974  214040377  United Arab Emirates      Nespresso   \n",
       "4975   64366667  United Arab Emirates   Net-A-Porter   \n",
       "4976   57031623  United Arab Emirates  LuLu Webstore   \n",
       "4977  199697125  United Arab Emirates  LuLu Webstore   \n",
       "\n",
       "                                            breadcrumbs  \\\n",
       "4973  [\"Fresh Food\",\"Dairy & Eggs\",\"Yoghurt & Chille...   \n",
       "4974                         [\"Accessories\",\"Original\"]   \n",
       "4975                     [\"Clothing\",\"Pants\",\"Cropped\"]   \n",
       "4976                [\"Health & Beauty\",\"Shower & Bath\"]   \n",
       "4977  [\"Fresh Food\",\"Dairy, Eggs & Cheese\",\"Fresh Da...   \n",
       "\n",
       "                                          breadcrumbs_t  \\\n",
       "4973  [\"Fresh Food\",\"Dairy & Eggs\",\"Yoghurt\",\"Plain ...   \n",
       "4974                         [\"Accessories\",\"Original\"]   \n",
       "4975                     [\"Clothing\",\"Pants\",\"Cropped\"]   \n",
       "4976                [\"Health & Beauty\",\"Shower & Bath\"]   \n",
       "4977  [\"Fresh Food\",\"Dairy, Eggs & Cheese\",\"Fresh Da...   \n",
       "\n",
       "                                           name  \\\n",
       "4973        Al Rawabi Fresh Yoghurt Low Fat 90g   \n",
       "4974  Touch travel mug, Limited Edition Festive   \n",
       "4975          Tatum stretch-twill striped pants   \n",
       "4976                 Home Mate Bath Cap 924 1pc   \n",
       "4977         Activia Stirred Yoghurt Plain 125g   \n",
       "\n",
       "                                         name_t pack_size pack_size_t  \\\n",
       "4973         Al Rawabi Fresh yogurt Low Fat 90g       90g         90g   \n",
       "4974  Touch travel mug, Limited Edition Festive       NaN         NaN   \n",
       "4975          Tatum stretch-twill striped pants       NaN         NaN   \n",
       "4976                 Home Mate Bath Cap 924 1pc      1 Pc        1 Pc   \n",
       "4977         Activia Stirred Yoghurt Plain 125g      1 pc        1 pc   \n",
       "\n",
       "                                      description_short  \\\n",
       "4973  100% pure cow's milk. milk is good source of c...   \n",
       "4974  touch travel mug is a must-have coffee accesso...   \n",
       "4975      cefinn tatum stretch-twill striped pants £167   \n",
       "4976                      bath cap soft and comfortable   \n",
       "4977  stirred yoghurt plain , product description co...   \n",
       "\n",
       "                                    description_t_short  \\\n",
       "4973  the al rawabi fresh yogurt low fat weighs 90g....   \n",
       "4974  touch travel mug is a must-have coffee accesso...   \n",
       "4975     cefinn tatum stretch-twill striped pants ps167   \n",
       "4976                      bath cap soft and comfortable   \n",
       "4977  stirred yoghurt plain , product description co...   \n",
       "\n",
       "                                    resnet50_labels_005 resnet50_labels_06  \\\n",
       "4973  bucket~lotion~measuring_cup~nipple~paper_towel...                NaN   \n",
       "4974     breastplate~bucket~coffeepot~drum~space_heater                NaN   \n",
       "4975                 pajama~suit~swimming_trunks~velvet                NaN   \n",
       "4976                                         shower_cap         shower_cap   \n",
       "4977                   ashcan~lotion~packet~paper_towel                NaN   \n",
       "\n",
       "           price          label  \n",
       "4973    0.217984  Plain Yoghurt  \n",
       "4974   26.975477   OUT OF SCOPE  \n",
       "4975  210.728950   OUT OF SCOPE  \n",
       "4976    1.089918   OUT OF SCOPE  \n",
       "4977    0.435967  Plain Yoghurt  "
      ]
     },
     "execution_count": 3,
     "metadata": {},
     "output_type": "execute_result"
    }
   ],
   "source": [
    "df.tail()"
   ]
  },
  {
   "cell_type": "markdown",
   "metadata": {},
   "source": [
    "# Explore data"
   ]
  },
  {
   "cell_type": "code",
   "execution_count": 4,
   "metadata": {
    "tags": []
   },
   "outputs": [
    {
     "name": "stdout",
     "output_type": "stream",
     "text": [
      "Shape: (4978, 15)\n",
      "# duplicate: 0\n",
      "\n",
      "<class 'pandas.core.frame.DataFrame'>\n",
      "RangeIndex: 4978 entries, 0 to 4977\n",
      "Data columns (total 15 columns):\n",
      "sku_id                 4978 non-null int64\n",
      "country_name           4978 non-null object\n",
      "retailer               4978 non-null object\n",
      "breadcrumbs            4978 non-null object\n",
      "breadcrumbs_t          4978 non-null object\n",
      "name                   4978 non-null object\n",
      "name_t                 4978 non-null object\n",
      "pack_size              894 non-null object\n",
      "pack_size_t            892 non-null object\n",
      "description_short      3755 non-null object\n",
      "description_t_short    3753 non-null object\n",
      "resnet50_labels_005    4857 non-null object\n",
      "resnet50_labels_06     1620 non-null object\n",
      "price                  4780 non-null float64\n",
      "label                  4978 non-null object\n",
      "dtypes: float64(1), int64(1), object(13)\n",
      "memory usage: 583.4+ KB\n",
      "\n",
      "                     n_unique  n_missing  ratio_missing\n",
      "sku_id                   4978          0       0.000000\n",
      "country_name               40          0       0.000000\n",
      "retailer                  359          0       0.000000\n",
      "breadcrumbs              4962          0       0.000000\n",
      "breadcrumbs_t            4978          0       0.000000\n",
      "name                     4977          0       0.000000\n",
      "name_t                   4978          0       0.000000\n",
      "pack_size                 644       4084       0.820410\n",
      "pack_size_t               627       4086       0.820812\n",
      "description_short        3695       1223       0.245681\n",
      "description_t_short      3690       1225       0.246083\n",
      "resnet50_labels_005      3600        121       0.024307\n",
      "resnet50_labels_06        278       3358       0.674568\n",
      "price                    3680        198       0.039775\n",
      "label                       7          0       0.000000\n",
      "\n",
      "             sku_id        price\n",
      "count  4.978000e+03  4780.000000\n",
      "mean   9.847625e+07    39.982275\n",
      "std    7.889462e+07   143.681772\n",
      "min    2.279000e+04     0.000206\n",
      "25%    2.249980e+07     5.947563\n",
      "50%    8.033253e+07    13.947514\n",
      "75%    1.604921e+08    34.374009\n",
      "max    2.772169e+08  4636.000000\n"
     ]
    }
   ],
   "source": [
    "df_stat1 = pd.DataFrame({'n_unique': df.nunique(), 'n_missing': df.isna().sum(), 'ratio_missing': df.isna().sum()/len(df)})\n",
    "df_stat2 = df.describe()\n",
    "\n",
    "print('Shape:', df.shape)\n",
    "print('# duplicate:', df.duplicated(subset=None, keep='first').sum())\n",
    "print()\n",
    "df.info()\n",
    "print()\n",
    "print(df_stat1)\n",
    "print()\n",
    "print(df_stat2)"
   ]
  },
  {
   "cell_type": "code",
   "execution_count": 5,
   "metadata": {},
   "outputs": [
    {
     "data": {
      "image/png": "[encoded data removed]",
      "text/plain": [
       "<Figure size 432x288 with 1 Axes>"
      ]
     },
     "metadata": {
      "needs_background": "light"
     },
     "output_type": "display_data"
    }
   ],
   "source": [
    "# let's examine distribution of the numerical data\n",
    "df.boxplot(column=['price'])\n",
    "plt.show()\n"
   ]
  },
  {
   "cell_type": "markdown",
   "metadata": {},
   "source": [
    "It can be seen that the distribution is skewed."
   ]
  },
  {
   "cell_type": "code",
   "execution_count": 6,
   "metadata": {},
   "outputs": [
    {
     "data": {
      "image/png": "[encoded data removed]",
      "text/plain": [
       "<Figure size 1080x360 with 1 Axes>"
      ]
     },
     "metadata": {
      "needs_background": "light"
     },
     "output_type": "display_data"
    }
   ],
   "source": [
    "plt.figure(figsize=(15,5))\n",
    "ax = sns.boxplot(data=df, x='label', y='price')\n",
    "plt.show()"
   ]
  },
  {
   "cell_type": "code",
   "execution_count": 7,
   "metadata": {
    "tags": []
   },
   "outputs": [
    {
     "data": {
      "image/png": "[encoded data removed]",
      "text/plain": [
       "<Figure size 1080x360 with 1 Axes>"
      ]
     },
     "metadata": {
      "needs_background": "light"
     },
     "output_type": "display_data"
    }
   ],
   "source": [
    "# Let's explore the distribution of class label\n",
    "plt.figure(figsize=(15,5))\n",
    "ax = sns.countplot(x=\"label\", data=df)"
   ]
  },
  {
   "cell_type": "code",
   "execution_count": 8,
   "metadata": {},
   "outputs": [
    {
     "data": {
      "text/plain": [
       "OUT OF SCOPE          4139\n",
       "Women's Fragrances     233\n",
       "Men's Fragrances       231\n",
       "Dry Dog Food           129\n",
       "Flavoured Yoghurt       95\n",
       "Wet Dog Food            89\n",
       "Plain Yoghurt           62\n",
       "Name: label, dtype: int64"
      ]
     },
     "execution_count": 8,
     "metadata": {},
     "output_type": "execute_result"
    }
   ],
   "source": [
    "df['label'].value_counts()"
   ]
  },
  {
   "cell_type": "markdown",
   "metadata": {},
   "source": [
    "# Observations\n",
    "\n",
    "The column sku_id is uninformative for learning.\n",
    "\n",
    "There are columns with a large number of missing values.\n",
    "\n",
    "There are coulmns that provide similar information.\n",
    "\n",
    "There is a single column with numerical data.\n",
    "\n",
    "It is a multiclass classification problem with unbalanced class distribution."
   ]
  },
  {
   "cell_type": "markdown",
   "metadata": {},
   "source": [
    "# Split data"
   ]
  },
  {
   "cell_type": "code",
   "execution_count": 9,
   "metadata": {},
   "outputs": [],
   "source": [
    "# encoder for target labels\n",
    "labelEncoder = LabelEncoder()\n",
    "\n",
    "X, y = df.iloc[:,:-1], labelEncoder.fit_transform(df['label'])\n",
    "\n",
    "X_train, X_test, y_train, y_test = train_test_split(X, y, test_size=0.2, random_state=42)\n",
    "\n",
    "# training data\n",
    "X_train = pd.DataFrame(data=X_train, columns=df.iloc[:,:-1].columns)\n",
    "\n",
    "# test data\n",
    "X_test = pd.DataFrame(data=X_test, columns=df.iloc[:,:-1].columns)"
   ]
  },
  {
   "cell_type": "markdown",
   "metadata": {},
   "source": [
    "# Create pipeline"
   ]
  },
  {
   "cell_type": "code",
   "execution_count": 10,
   "metadata": {},
   "outputs": [],
   "source": [
    "# create custom transformer\n",
    "\n",
    "# Custom Transformer that process columns \n",
    "class TextProcessor(BaseEstimator, TransformerMixin):\n",
    "    # Class Constructor \n",
    "    def __init__(self):\n",
    "        pass\n",
    "    \n",
    "    # Return self nothing else to do here    \n",
    "    def fit(self, X, y=None):\n",
    "        return self \n",
    "    \n",
    "    # Method that describes what we need this transformer to do\n",
    "    def transform(self, X, y=None):\n",
    "        return [' '.join(i.tolist()) for i in X]"
   ]
  },
  {
   "cell_type": "code",
   "execution_count": 11,
   "metadata": {},
   "outputs": [
    {
     "data": {
      "text/html": [
       "<style>div.sk-top-container {color: black;background-color: white;}div.sk-toggleable {background-color: white;}label.sk-toggleable__label {cursor: pointer;display: block;width: 100%;margin-bottom: 0;padding: 0.2em 0.3em;box-sizing: border-box;text-align: center;}div.sk-toggleable__content {max-height: 0;max-width: 0;overflow: hidden;text-align: left;background-color: #f0f8ff;}div.sk-toggleable__content pre {margin: 0.2em;color: black;border-radius: 0.25em;background-color: #f0f8ff;}input.sk-toggleable__control:checked~div.sk-toggleable__content {max-height: 200px;max-width: 100%;overflow: auto;}div.sk-estimator input.sk-toggleable__control:checked~label.sk-toggleable__label {background-color: #d4ebff;}div.sk-label input.sk-toggleable__control:checked~label.sk-toggleable__label {background-color: #d4ebff;}input.sk-hidden--visually {border: 0;clip: rect(1px 1px 1px 1px);clip: rect(1px, 1px, 1px, 1px);height: 1px;margin: -1px;overflow: hidden;padding: 0;position: absolute;width: 1px;}div.sk-estimator {font-family: monospace;background-color: #f0f8ff;margin: 0.25em 0.25em;border: 1px dotted black;border-radius: 0.25em;box-sizing: border-box;}div.sk-estimator:hover {background-color: #d4ebff;}div.sk-parallel-item::after {content: \"\";width: 100%;border-bottom: 1px solid gray;flex-grow: 1;}div.sk-label:hover label.sk-toggleable__label {background-color: #d4ebff;}div.sk-serial::before {content: \"\";position: absolute;border-left: 1px solid gray;box-sizing: border-box;top: 2em;bottom: 0;left: 50%;}div.sk-serial {display: flex;flex-direction: column;align-items: center;background-color: white;}div.sk-item {z-index: 1;}div.sk-parallel {display: flex;align-items: stretch;justify-content: center;background-color: white;}div.sk-parallel-item {display: flex;flex-direction: column;position: relative;background-color: white;}div.sk-parallel-item:first-child::after {align-self: flex-end;width: 50%;}div.sk-parallel-item:last-child::after {align-self: flex-start;width: 50%;}div.sk-parallel-item:only-child::after {width: 0;}div.sk-dashed-wrapped {border: 1px dashed gray;margin: 0.2em;box-sizing: border-box;padding-bottom: 0.1em;background-color: white;position: relative;}div.sk-label label {font-family: monospace;font-weight: bold;background-color: white;display: inline-block;line-height: 1.2em;}div.sk-label-container {position: relative;z-index: 2;text-align: center;}div.sk-container {display: inline-block;position: relative;}</style><div class=\"sk-top-container\"><div class=\"sk-container\"><div class=\"sk-item sk-dashed-wrapped\"><div class=\"sk-label-container\"><div class=\"sk-label sk-toggleable\"><input class=\"sk-toggleable__control sk-hidden--visually\" id=\"7e7780f4-1881-4b4d-bdd5-5c5b74678ae8\" type=\"checkbox\" ><label class=\"sk-toggleable__label\" for=\"7e7780f4-1881-4b4d-bdd5-5c5b74678ae8\">Pipeline</label><div class=\"sk-toggleable__content\"><pre>Pipeline(steps=[('preprocessor',\n",
       "                 ColumnTransformer(transformers=[('numerical',\n",
       "                                                  Pipeline(steps=[('imputer',\n",
       "                                                                   SimpleImputer(fill_value=0,\n",
       "                                                                                 strategy='constant')),\n",
       "                                                                  ('binarizer',\n",
       "                                                                   KBinsDiscretizer(n_bins=3,\n",
       "                                                                                    strategy='kmeans'))]),\n",
       "                                                  ['price']),\n",
       "                                                 ('categorical',\n",
       "                                                  Pipeline(steps=[('imputer',\n",
       "                                                                   SimpleImputer(fill_value='missing',\n",
       "                                                                                 strategy='constant')),\n",
       "                                                                  ('onehot',\n",
       "                                                                   OneHotEncoder(ha...\n",
       "                                                 ('text',\n",
       "                                                  Pipeline(steps=[('imputer',\n",
       "                                                                   SimpleImputer(fill_value='missing',\n",
       "                                                                                 strategy='constant')),\n",
       "                                                                  ('merger',\n",
       "                                                                   TextProcessor()),\n",
       "                                                                  ('tfidf',\n",
       "                                                                   TfidfVectorizer()),\n",
       "                                                                  ('scaler',\n",
       "                                                                   MaxAbsScaler())]),\n",
       "                                                  ['breadcrumbs_t', 'name_t',\n",
       "                                                   'description_t_short',\n",
       "                                                   'resnet50_labels_005'])])),\n",
       "                ('classifier',\n",
       "                 OneVsRestClassifier(estimator=LogisticRegression(class_weight='balanced',\n",
       "                                                                  random_state=23)))])</pre></div></div></div><div class=\"sk-serial\"><div class=\"sk-item sk-dashed-wrapped\"><div class=\"sk-label-container\"><div class=\"sk-label sk-toggleable\"><input class=\"sk-toggleable__control sk-hidden--visually\" id=\"01629e1d-98f0-4737-8ea2-7e79ffebf453\" type=\"checkbox\" ><label class=\"sk-toggleable__label\" for=\"01629e1d-98f0-4737-8ea2-7e79ffebf453\">preprocessor: ColumnTransformer</label><div class=\"sk-toggleable__content\"><pre>ColumnTransformer(transformers=[('numerical',\n",
       "                                 Pipeline(steps=[('imputer',\n",
       "                                                  SimpleImputer(fill_value=0,\n",
       "                                                                strategy='constant')),\n",
       "                                                 ('binarizer',\n",
       "                                                  KBinsDiscretizer(n_bins=3,\n",
       "                                                                   strategy='kmeans'))]),\n",
       "                                 ['price']),\n",
       "                                ('categorical',\n",
       "                                 Pipeline(steps=[('imputer',\n",
       "                                                  SimpleImputer(fill_value='missing',\n",
       "                                                                strategy='constant')),\n",
       "                                                 ('onehot',\n",
       "                                                  OneHotEncoder(handle_unknown='ignore',\n",
       "                                                                sparse=False))]),\n",
       "                                 ['country_name', 'retailer']),\n",
       "                                ('text',\n",
       "                                 Pipeline(steps=[('imputer',\n",
       "                                                  SimpleImputer(fill_value='missing',\n",
       "                                                                strategy='constant')),\n",
       "                                                 ('merger', TextProcessor()),\n",
       "                                                 ('tfidf', TfidfVectorizer()),\n",
       "                                                 ('scaler', MaxAbsScaler())]),\n",
       "                                 ['breadcrumbs_t', 'name_t',\n",
       "                                  'description_t_short',\n",
       "                                  'resnet50_labels_005'])])</pre></div></div></div><div class=\"sk-parallel\"><div class=\"sk-parallel-item\"><div class=\"sk-item\"><div class=\"sk-label-container\"><div class=\"sk-label sk-toggleable\"><input class=\"sk-toggleable__control sk-hidden--visually\" id=\"3d57f940-3615-4cff-bd90-34671ff6cf81\" type=\"checkbox\" ><label class=\"sk-toggleable__label\" for=\"3d57f940-3615-4cff-bd90-34671ff6cf81\">numerical</label><div class=\"sk-toggleable__content\"><pre>['price']</pre></div></div></div><div class=\"sk-serial\"><div class=\"sk-item\"><div class=\"sk-serial\"><div class=\"sk-item\"><div class=\"sk-estimator sk-toggleable\"><input class=\"sk-toggleable__control sk-hidden--visually\" id=\"c0d26546-5635-4231-9b18-87fcb528b662\" type=\"checkbox\" ><label class=\"sk-toggleable__label\" for=\"c0d26546-5635-4231-9b18-87fcb528b662\">SimpleImputer</label><div class=\"sk-toggleable__content\"><pre>SimpleImputer(fill_value=0, strategy='constant')</pre></div></div></div><div class=\"sk-item\"><div class=\"sk-estimator sk-toggleable\"><input class=\"sk-toggleable__control sk-hidden--visually\" id=\"02acf4f8-8856-4819-8ba8-5fa9725b1718\" type=\"checkbox\" ><label class=\"sk-toggleable__label\" for=\"02acf4f8-8856-4819-8ba8-5fa9725b1718\">KBinsDiscretizer</label><div class=\"sk-toggleable__content\"><pre>KBinsDiscretizer(n_bins=3, strategy='kmeans')</pre></div></div></div></div></div></div></div></div><div class=\"sk-parallel-item\"><div class=\"sk-item\"><div class=\"sk-label-container\"><div class=\"sk-label sk-toggleable\"><input class=\"sk-toggleable__control sk-hidden--visually\" id=\"7d2a9acb-b3e4-4fb6-b66b-bb4d2fd70bbd\" type=\"checkbox\" ><label class=\"sk-toggleable__label\" for=\"7d2a9acb-b3e4-4fb6-b66b-bb4d2fd70bbd\">categorical</label><div class=\"sk-toggleable__content\"><pre>['country_name', 'retailer']</pre></div></div></div><div class=\"sk-serial\"><div class=\"sk-item\"><div class=\"sk-serial\"><div class=\"sk-item\"><div class=\"sk-estimator sk-toggleable\"><input class=\"sk-toggleable__control sk-hidden--visually\" id=\"29008d14-f7d7-4e87-bd96-b1c20ae1a570\" type=\"checkbox\" ><label class=\"sk-toggleable__label\" for=\"29008d14-f7d7-4e87-bd96-b1c20ae1a570\">SimpleImputer</label><div class=\"sk-toggleable__content\"><pre>SimpleImputer(fill_value='missing', strategy='constant')</pre></div></div></div><div class=\"sk-item\"><div class=\"sk-estimator sk-toggleable\"><input class=\"sk-toggleable__control sk-hidden--visually\" id=\"0152ad4e-c9a4-442a-ad9c-73ee48ea2a39\" type=\"checkbox\" ><label class=\"sk-toggleable__label\" for=\"0152ad4e-c9a4-442a-ad9c-73ee48ea2a39\">OneHotEncoder</label><div class=\"sk-toggleable__content\"><pre>OneHotEncoder(handle_unknown='ignore', sparse=False)</pre></div></div></div></div></div></div></div></div><div class=\"sk-parallel-item\"><div class=\"sk-item\"><div class=\"sk-label-container\"><div class=\"sk-label sk-toggleable\"><input class=\"sk-toggleable__control sk-hidden--visually\" id=\"61a103de-a731-47c5-aaa0-b362edadc855\" type=\"checkbox\" ><label class=\"sk-toggleable__label\" for=\"61a103de-a731-47c5-aaa0-b362edadc855\">text</label><div class=\"sk-toggleable__content\"><pre>['breadcrumbs_t', 'name_t', 'description_t_short', 'resnet50_labels_005']</pre></div></div></div><div class=\"sk-serial\"><div class=\"sk-item\"><div class=\"sk-serial\"><div class=\"sk-item\"><div class=\"sk-estimator sk-toggleable\"><input class=\"sk-toggleable__control sk-hidden--visually\" id=\"ceea8728-b4f8-41b4-a2b5-138156387013\" type=\"checkbox\" ><label class=\"sk-toggleable__label\" for=\"ceea8728-b4f8-41b4-a2b5-138156387013\">SimpleImputer</label><div class=\"sk-toggleable__content\"><pre>SimpleImputer(fill_value='missing', strategy='constant')</pre></div></div></div><div class=\"sk-item\"><div class=\"sk-estimator sk-toggleable\"><input class=\"sk-toggleable__control sk-hidden--visually\" id=\"6889e2d2-8897-4281-9a87-c0c2e86172a9\" type=\"checkbox\" ><label class=\"sk-toggleable__label\" for=\"6889e2d2-8897-4281-9a87-c0c2e86172a9\">TextProcessor</label><div class=\"sk-toggleable__content\"><pre>TextProcessor()</pre></div></div></div><div class=\"sk-item\"><div class=\"sk-estimator sk-toggleable\"><input class=\"sk-toggleable__control sk-hidden--visually\" id=\"de8e20cb-dd59-483b-84bd-deeff1e8106a\" type=\"checkbox\" ><label class=\"sk-toggleable__label\" for=\"de8e20cb-dd59-483b-84bd-deeff1e8106a\">TfidfVectorizer</label><div class=\"sk-toggleable__content\"><pre>TfidfVectorizer()</pre></div></div></div><div class=\"sk-item\"><div class=\"sk-estimator sk-toggleable\"><input class=\"sk-toggleable__control sk-hidden--visually\" id=\"3778b7d8-4d8f-43b4-a6e8-7266f972014c\" type=\"checkbox\" ><label class=\"sk-toggleable__label\" for=\"3778b7d8-4d8f-43b4-a6e8-7266f972014c\">MaxAbsScaler</label><div class=\"sk-toggleable__content\"><pre>MaxAbsScaler()</pre></div></div></div></div></div></div></div></div></div></div><div class=\"sk-item sk-dashed-wrapped\"><div class=\"sk-label-container\"><div class=\"sk-label sk-toggleable\"><input class=\"sk-toggleable__control sk-hidden--visually\" id=\"a3f18c8c-ce55-4f01-9a46-10c15657a33b\" type=\"checkbox\" ><label class=\"sk-toggleable__label\" for=\"a3f18c8c-ce55-4f01-9a46-10c15657a33b\">classifier: OneVsRestClassifier</label><div class=\"sk-toggleable__content\"><pre>OneVsRestClassifier(estimator=LogisticRegression(class_weight='balanced',\n",
       "                                                 random_state=23))</pre></div></div></div><div class=\"sk-parallel\"><div class=\"sk-parallel-item\"><div class=\"sk-item\"><div class=\"sk-serial\"><div class=\"sk-item\"><div class=\"sk-estimator sk-toggleable\"><input class=\"sk-toggleable__control sk-hidden--visually\" id=\"de8274bd-2915-48f7-8107-3497a9222fd8\" type=\"checkbox\" ><label class=\"sk-toggleable__label\" for=\"de8274bd-2915-48f7-8107-3497a9222fd8\">LogisticRegression</label><div class=\"sk-toggleable__content\"><pre>LogisticRegression(class_weight='balanced', random_state=23)</pre></div></div></div></div></div></div></div></div></div></div></div></div>"
      ],
      "text/plain": [
       "Pipeline(steps=[('preprocessor',\n",
       "                 ColumnTransformer(transformers=[('numerical',\n",
       "                                                  Pipeline(steps=[('imputer',\n",
       "                                                                   SimpleImputer(fill_value=0,\n",
       "                                                                                 strategy='constant')),\n",
       "                                                                  ('binarizer',\n",
       "                                                                   KBinsDiscretizer(n_bins=3,\n",
       "                                                                                    strategy='kmeans'))]),\n",
       "                                                  ['price']),\n",
       "                                                 ('categorical',\n",
       "                                                  Pipeline(steps=[('imputer',\n",
       "                                                                   SimpleImputer(fill_value='missing',\n",
       "                                                                                 strategy='constant')),\n",
       "                                                                  ('onehot',\n",
       "                                                                   OneHotEncoder(ha...\n",
       "                                                 ('text',\n",
       "                                                  Pipeline(steps=[('imputer',\n",
       "                                                                   SimpleImputer(fill_value='missing',\n",
       "                                                                                 strategy='constant')),\n",
       "                                                                  ('merger',\n",
       "                                                                   TextProcessor()),\n",
       "                                                                  ('tfidf',\n",
       "                                                                   TfidfVectorizer()),\n",
       "                                                                  ('scaler',\n",
       "                                                                   MaxAbsScaler())]),\n",
       "                                                  ['breadcrumbs_t', 'name_t',\n",
       "                                                   'description_t_short',\n",
       "                                                   'resnet50_labels_005'])])),\n",
       "                ('classifier',\n",
       "                 OneVsRestClassifier(estimator=LogisticRegression(class_weight='balanced',\n",
       "                                                                  random_state=23)))])"
      ]
     },
     "execution_count": 11,
     "metadata": {},
     "output_type": "execute_result"
    }
   ],
   "source": [
    "# define pipeline for numerical columns\n",
    "numerical_columns = ['price']\n",
    "numerical_transformer = Pipeline(steps=[ ('imputer', SimpleImputer(strategy='constant', fill_value=0)),\n",
    "                                         ('binarizer', KBinsDiscretizer(n_bins=3, encode='onehot', strategy='kmeans')) ])\n",
    "\n",
    "# define pipeline for categorical columns\n",
    "categorical_columns = ['country_name', 'retailer']\n",
    "categorical_transformer = Pipeline(steps=[ ('imputer', SimpleImputer(strategy='constant', fill_value='missing')),\n",
    "                                           ('onehot', OneHotEncoder(sparse=False, handle_unknown='ignore')) ])\n",
    "\n",
    "# define pipeline for text columns\n",
    "text_columns = ['breadcrumbs_t', 'name_t', 'description_t_short', 'resnet50_labels_005']\n",
    "text_transformer = Pipeline(steps=[ ('imputer', SimpleImputer(strategy='constant', fill_value='missing')),\n",
    "                                    ('merger', TextProcessor()),\n",
    "                                    ('tfidf', TfidfVectorizer()),\n",
    "                                    ('scaler', MaxAbsScaler()) ])\n",
    "\n",
    "# define entire preprocessing pipeline \n",
    "preprocessor = ColumnTransformer(transformers=[ ('numerical', numerical_transformer, numerical_columns),\n",
    "                                                ('categorical', categorical_transformer, categorical_columns),\n",
    "                                                ('text', text_transformer, text_columns) ])    \n",
    "\n",
    "# define model using One-vs-the-rest (OvR) multiclass/multilabel strategy\n",
    "# For each classifier, the class is fitted against all the other classes.\n",
    "classifier = OneVsRestClassifier(LogisticRegression(class_weight='balanced', random_state=23))\n",
    "\n",
    "# create a complete prediction pipeline\n",
    "model = Pipeline(steps=[('preprocessor', preprocessor),\n",
    "                        ('classifier', classifier)])\n",
    "\n",
    "# HTML representation of pipeline\n",
    "set_config(display='diagram')\n",
    "model"
   ]
  },
  {
   "cell_type": "markdown",
   "metadata": {},
   "source": [
    "# Model selection"
   ]
  },
  {
   "cell_type": "code",
   "execution_count": 12,
   "metadata": {},
   "outputs": [],
   "source": [
    "# define evaluation procedure\n",
    "cv = RepeatedStratifiedKFold(n_splits=5, n_repeats=1, random_state=1)\n",
    "\n",
    "# define grid\n",
    "params = {\n",
    "    'preprocessor__numerical__imputer__strategy': ['constant', 'median'],\n",
    "    'preprocessor__numerical__binarizer__n_bins': [3, 4],\n",
    "    'classifier__estimator__C': [0.5, 1.0]\n",
    "    }\n",
    "\n",
    "# define grid search\n",
    "grid = GridSearchCV(estimator=model, param_grid=params, n_jobs=-1, cv=cv)\n",
    "\n",
    "# execute the grid search\n",
    "grid_result = grid.fit(X_train, y_train)\n"
   ]
  },
  {
   "cell_type": "code",
   "execution_count": 13,
   "metadata": {
    "tags": []
   },
   "outputs": [
    {
     "name": "stdout",
     "output_type": "stream",
     "text": [
      "means: [0.95454657 0.95454657 0.95454657 0.95454657 0.95630411 0.95630411\n",
      " 0.95630411 0.95630411]\n",
      "stds: [0.00213601 0.00213601 0.00213601 0.00213601 0.00164574 0.00164574\n",
      " 0.00164574 0.00164574]\n",
      "\n",
      "best score: 0.9563041052186907\n",
      "best params: {'classifier__estimator__C': 1.0, 'preprocessor__numerical__binarizer__n_bins': 3, 'preprocessor__numerical__imputer__strategy': 'constant'}\n"
     ]
    }
   ],
   "source": [
    "# report all configurations\n",
    "print('means:', grid_result.cv_results_['mean_test_score'])\n",
    "print('stds:', grid_result.cv_results_['std_test_score'])\n",
    "print()\n",
    "# report the best configuration\n",
    "print('best score:', grid_result.best_score_)\n",
    "print('best params:', grid_result.best_params_)"
   ]
  },
  {
   "cell_type": "markdown",
   "metadata": {},
   "source": [
    "# Model evaluation"
   ]
  },
  {
   "cell_type": "code",
   "execution_count": 14,
   "metadata": {
    "tags": []
   },
   "outputs": [
    {
     "name": "stdout",
     "output_type": "stream",
     "text": [
      "              precision    recall  f1-score   support\n",
      "\n",
      "           0       0.89      0.85      0.87        20\n",
      "           1       0.85      0.65      0.74        26\n",
      "           2       0.92      0.88      0.90        41\n",
      "           3       0.99      0.99      0.99       834\n",
      "           4       0.44      0.70      0.54        10\n",
      "           5       0.83      0.94      0.88        16\n",
      "           6       0.88      0.90      0.89        49\n",
      "\n",
      "    accuracy                           0.97       996\n",
      "   macro avg       0.83      0.84      0.83       996\n",
      "weighted avg       0.97      0.97      0.97       996\n",
      "\n"
     ]
    },
    {
     "data": {
      "image/png": "[encoded data removed]",
      "text/plain": [
       "<Figure size 432x288 with 2 Axes>"
      ]
     },
     "metadata": {
      "needs_background": "light"
     },
     "output_type": "display_data"
    }
   ],
   "source": [
    "# make prediction\n",
    "y_pred = grid.predict(X_test)\n",
    "\n",
    "# create classification report\n",
    "print(metrics.classification_report(y_test, y_pred))\n",
    "\n",
    "# compute and show confusion matrix\n",
    "disp = metrics.plot_confusion_matrix(grid, X_test, y_test, display_labels=labelEncoder.classes_, xticks_rotation='vertical')\n",
    "disp.figure_.suptitle(\"Confusion Matrix\")\n",
    "plt.show()"
   ]
  },
  {
   "cell_type": "code",
   "execution_count": null,
   "metadata": {},
   "outputs": [],
   "source": []
  }
 ],
 "metadata": {
  "kernelspec": {
   "display_name": "Python 3",
   "language": "python",
   "name": "python3"
  },
  "language_info": {
   "codemirror_mode": {
    "name": "ipython",
    "version": 3
   },
   "file_extension": ".py",
   "mimetype": "text/x-python",
   "name": "python",
   "nbconvert_exporter": "python",
   "pygments_lexer": "ipython3",
   "version": "3.7.3"
  }
 },
 "nbformat": 4,
 "nbformat_minor": 2
}
