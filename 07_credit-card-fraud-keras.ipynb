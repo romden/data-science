{
 "cells": [
  {
   "cell_type": "markdown",
   "metadata": {
    "id": "Gwfg9HB4lHJK"
   },
   "source": [
    "## Introduction\n",
    "\n",
    "This notebook demonstrates how to use neural network model for \n",
    "[Kaggle Credit Card Fraud Detection](https://www.kaggle.com/mlg-ulb/creditcardfraud/)\n",
    "dataset.\n",
    "\n",
    "The model is based on [the keras code example](https://keras.io/examples/structured_data/imbalanced_classification/)."
   ]
  },
  {
   "cell_type": "markdown",
   "metadata": {},
   "source": [
    "## Imports"
   ]
  },
  {
   "cell_type": "code",
   "execution_count": 3,
   "metadata": {
    "scrolled": true
   },
   "outputs": [],
   "source": [
    "import pandas as pd\n",
    "import numpy as np\n",
    "import pickle\n",
    "\n",
    "from sklearn.preprocessing import StandardScaler\n",
    "from sklearn.pipeline import make_pipeline\n",
    "from sklearn.metrics import confusion_matrix, roc_curve\n",
    "\n",
    "import seaborn as sns\n",
    "sns.set_theme()\n",
    "import matplotlib.pyplot as plt\n",
    "%matplotlib inline\n",
    "\n",
    "from tensorflow import keras"
   ]
  },
  {
   "cell_type": "markdown",
   "metadata": {
    "id": "wWjFLUbXlHJL"
   },
   "source": [
    "## Load and Explore data"
   ]
  },
  {
   "cell_type": "code",
   "execution_count": 4,
   "metadata": {
    "scrolled": true
   },
   "outputs": [
    {
     "name": "stdout",
     "output_type": "stream",
     "text": [
      "(284807, 31)\n"
     ]
    },
    {
     "data": {
      "text/html": [
       "<div>\n",
       "<style scoped>\n",
       "    .dataframe tbody tr th:only-of-type {\n",
       "        vertical-align: middle;\n",
       "    }\n",
       "\n",
       "    .dataframe tbody tr th {\n",
       "        vertical-align: top;\n",
       "    }\n",
       "\n",
       "    .dataframe thead th {\n",
       "        text-align: right;\n",
       "    }\n",
       "</style>\n",
       "<table border=\"1\" class=\"dataframe\">\n",
       "  <thead>\n",
       "    <tr style=\"text-align: right;\">\n",
       "      <th></th>\n",
       "      <th>trxn_id</th>\n",
       "      <th>V1</th>\n",
       "      <th>V2</th>\n",
       "      <th>V3</th>\n",
       "      <th>V4</th>\n",
       "      <th>V5</th>\n",
       "      <th>V6</th>\n",
       "      <th>V7</th>\n",
       "      <th>V8</th>\n",
       "      <th>V9</th>\n",
       "      <th>...</th>\n",
       "      <th>V21</th>\n",
       "      <th>V22</th>\n",
       "      <th>V23</th>\n",
       "      <th>V24</th>\n",
       "      <th>V25</th>\n",
       "      <th>V26</th>\n",
       "      <th>V27</th>\n",
       "      <th>V28</th>\n",
       "      <th>Amount</th>\n",
       "      <th>Class</th>\n",
       "    </tr>\n",
       "  </thead>\n",
       "  <tbody>\n",
       "    <tr>\n",
       "      <th>0</th>\n",
       "      <td>c8fd4617afa44f288e9e3c769b14a5d7</td>\n",
       "      <td>-1.359807</td>\n",
       "      <td>-0.072781</td>\n",
       "      <td>2.536347</td>\n",
       "      <td>1.378155</td>\n",
       "      <td>-0.338321</td>\n",
       "      <td>0.462388</td>\n",
       "      <td>0.239599</td>\n",
       "      <td>0.098698</td>\n",
       "      <td>0.363787</td>\n",
       "      <td>...</td>\n",
       "      <td>-0.018307</td>\n",
       "      <td>0.277838</td>\n",
       "      <td>-0.110474</td>\n",
       "      <td>0.066928</td>\n",
       "      <td>0.128539</td>\n",
       "      <td>-0.189115</td>\n",
       "      <td>0.133558</td>\n",
       "      <td>-0.021053</td>\n",
       "      <td>149.62</td>\n",
       "      <td>0</td>\n",
       "    </tr>\n",
       "    <tr>\n",
       "      <th>1</th>\n",
       "      <td>f22fae0e0c6147f58c8449a9eeef094c</td>\n",
       "      <td>1.191857</td>\n",
       "      <td>0.266151</td>\n",
       "      <td>0.166480</td>\n",
       "      <td>0.448154</td>\n",
       "      <td>0.060018</td>\n",
       "      <td>-0.082361</td>\n",
       "      <td>-0.078803</td>\n",
       "      <td>0.085102</td>\n",
       "      <td>-0.255425</td>\n",
       "      <td>...</td>\n",
       "      <td>-0.225775</td>\n",
       "      <td>-0.638672</td>\n",
       "      <td>0.101288</td>\n",
       "      <td>-0.339846</td>\n",
       "      <td>0.167170</td>\n",
       "      <td>0.125895</td>\n",
       "      <td>-0.008983</td>\n",
       "      <td>0.014724</td>\n",
       "      <td>2.69</td>\n",
       "      <td>0</td>\n",
       "    </tr>\n",
       "    <tr>\n",
       "      <th>2</th>\n",
       "      <td>37b523d698e04b5a9222f136ec762234</td>\n",
       "      <td>-1.358354</td>\n",
       "      <td>-1.340163</td>\n",
       "      <td>1.773209</td>\n",
       "      <td>0.379780</td>\n",
       "      <td>-0.503198</td>\n",
       "      <td>1.800499</td>\n",
       "      <td>0.791461</td>\n",
       "      <td>0.247676</td>\n",
       "      <td>-1.514654</td>\n",
       "      <td>...</td>\n",
       "      <td>0.247998</td>\n",
       "      <td>0.771679</td>\n",
       "      <td>0.909412</td>\n",
       "      <td>-0.689281</td>\n",
       "      <td>-0.327642</td>\n",
       "      <td>-0.139097</td>\n",
       "      <td>-0.055353</td>\n",
       "      <td>-0.059752</td>\n",
       "      <td>378.66</td>\n",
       "      <td>0</td>\n",
       "    </tr>\n",
       "    <tr>\n",
       "      <th>3</th>\n",
       "      <td>3b3a024d15b04aa594e4c98817f8f7af</td>\n",
       "      <td>-0.966272</td>\n",
       "      <td>-0.185226</td>\n",
       "      <td>1.792993</td>\n",
       "      <td>-0.863291</td>\n",
       "      <td>-0.010309</td>\n",
       "      <td>1.247203</td>\n",
       "      <td>0.237609</td>\n",
       "      <td>0.377436</td>\n",
       "      <td>-1.387024</td>\n",
       "      <td>...</td>\n",
       "      <td>-0.108300</td>\n",
       "      <td>0.005274</td>\n",
       "      <td>-0.190321</td>\n",
       "      <td>-1.175575</td>\n",
       "      <td>0.647376</td>\n",
       "      <td>-0.221929</td>\n",
       "      <td>0.062723</td>\n",
       "      <td>0.061458</td>\n",
       "      <td>123.50</td>\n",
       "      <td>0</td>\n",
       "    </tr>\n",
       "    <tr>\n",
       "      <th>4</th>\n",
       "      <td>b64cf5a31f6745bfbb322301d761e4ad</td>\n",
       "      <td>-1.158233</td>\n",
       "      <td>0.877737</td>\n",
       "      <td>1.548718</td>\n",
       "      <td>0.403034</td>\n",
       "      <td>-0.407193</td>\n",
       "      <td>0.095921</td>\n",
       "      <td>0.592941</td>\n",
       "      <td>-0.270533</td>\n",
       "      <td>0.817739</td>\n",
       "      <td>...</td>\n",
       "      <td>-0.009431</td>\n",
       "      <td>0.798278</td>\n",
       "      <td>-0.137458</td>\n",
       "      <td>0.141267</td>\n",
       "      <td>-0.206010</td>\n",
       "      <td>0.502292</td>\n",
       "      <td>0.219422</td>\n",
       "      <td>0.215153</td>\n",
       "      <td>69.99</td>\n",
       "      <td>0</td>\n",
       "    </tr>\n",
       "  </tbody>\n",
       "</table>\n",
       "<p>5 rows × 31 columns</p>\n",
       "</div>"
      ],
      "text/plain": [
       "                            trxn_id        V1        V2        V3        V4  \\\n",
       "0  c8fd4617afa44f288e9e3c769b14a5d7 -1.359807 -0.072781  2.536347  1.378155   \n",
       "1  f22fae0e0c6147f58c8449a9eeef094c  1.191857  0.266151  0.166480  0.448154   \n",
       "2  37b523d698e04b5a9222f136ec762234 -1.358354 -1.340163  1.773209  0.379780   \n",
       "3  3b3a024d15b04aa594e4c98817f8f7af -0.966272 -0.185226  1.792993 -0.863291   \n",
       "4  b64cf5a31f6745bfbb322301d761e4ad -1.158233  0.877737  1.548718  0.403034   \n",
       "\n",
       "         V5        V6        V7        V8        V9  ...       V21       V22  \\\n",
       "0 -0.338321  0.462388  0.239599  0.098698  0.363787  ... -0.018307  0.277838   \n",
       "1  0.060018 -0.082361 -0.078803  0.085102 -0.255425  ... -0.225775 -0.638672   \n",
       "2 -0.503198  1.800499  0.791461  0.247676 -1.514654  ...  0.247998  0.771679   \n",
       "3 -0.010309  1.247203  0.237609  0.377436 -1.387024  ... -0.108300  0.005274   \n",
       "4 -0.407193  0.095921  0.592941 -0.270533  0.817739  ... -0.009431  0.798278   \n",
       "\n",
       "        V23       V24       V25       V26       V27       V28  Amount  Class  \n",
       "0 -0.110474  0.066928  0.128539 -0.189115  0.133558 -0.021053  149.62      0  \n",
       "1  0.101288 -0.339846  0.167170  0.125895 -0.008983  0.014724    2.69      0  \n",
       "2  0.909412 -0.689281 -0.327642 -0.139097 -0.055353 -0.059752  378.66      0  \n",
       "3 -0.190321 -1.175575  0.647376 -0.221929  0.062723  0.061458  123.50      0  \n",
       "4 -0.137458  0.141267 -0.206010  0.502292  0.219422  0.215153   69.99      0  \n",
       "\n",
       "[5 rows x 31 columns]"
      ]
     },
     "execution_count": 4,
     "metadata": {},
     "output_type": "execute_result"
    }
   ],
   "source": [
    "def helper_data_load(df):\n",
    "    import uuid\n",
    "    trxn_id = [uuid.uuid4().hex for _ in range(len(df))]\n",
    "    assert len(set(trxn_id)) == len(trxn_id)\n",
    "    df.insert(0, 'trxn_id', trxn_id)\n",
    "    df = df.drop('Time', axis=1)\n",
    "    return df\n",
    "\n",
    "# Get the real data from \n",
    "fname = \"/home/datashare/datasets/creditcard.csv\"\n",
    "df = pd.read_csv(fname)\n",
    "df = helper_data_load(df)\n",
    "\n",
    "print(df.shape)\n",
    "df.head()"
   ]
  },
  {
   "cell_type": "code",
   "execution_count": 5,
   "metadata": {
    "scrolled": true
   },
   "outputs": [
    {
     "name": "stdout",
     "output_type": "stream",
     "text": [
      "{0: 284315, 1: 492}\n"
     ]
    },
    {
     "data": {
      "image/png": "[encoded data removed]",
      "text/plain": [
       "<Figure size 360x360 with 1 Axes>"
      ]
     },
     "metadata": {},
     "output_type": "display_data"
    }
   ],
   "source": [
    "# explore class imbalance\n",
    "class_counts = df['Class'].value_counts()\n",
    "\n",
    "print(class_counts.to_dict())\n",
    "\n",
    "class_counts.plot.pie(y='mass', figsize=(5, 5));"
   ]
  },
  {
   "cell_type": "markdown",
   "metadata": {
    "id": "yPTDXcmNlHJO"
   },
   "source": [
    "## Prepare train/valid/test datasets"
   ]
  },
  {
   "cell_type": "code",
   "execution_count": 6,
   "metadata": {
    "collapsed": true,
    "scrolled": true
   },
   "outputs": [],
   "source": [
    "features = df.loc[:,'V1':'Amount'].values\n",
    "targets = df.loc[:,'Class':].values"
   ]
  },
  {
   "cell_type": "code",
   "execution_count": 7,
   "metadata": {},
   "outputs": [
    {
     "name": "stdout",
     "output_type": "stream",
     "text": [
      " total: 284807\n",
      " train: 170884\n",
      " valid: 56961\n",
      "  test: 56962\n"
     ]
    }
   ],
   "source": [
    "# define data split\n",
    "n = len(features)\n",
    "n_train = int(n * 0.6)\n",
    "n_valid = (n - n_train) // 2\n",
    "\n",
    "# create indexes\n",
    "idxs = np.arange(n)\n",
    "train_idxs = idxs[:n_train]\n",
    "valid_idxs = idxs[n_train:n_train+n_valid]\n",
    "test_idxs = idxs[n_train+n_valid:]\n",
    "\n",
    "print(f' total: {n}\\n train: {n_train}\\n valid: {n_valid}\\n  test: {len(test_idxs)}')"
   ]
  },
  {
   "cell_type": "code",
   "execution_count": 8,
   "metadata": {
    "id": "qY5QA7cRlHJO",
    "scrolled": true
   },
   "outputs": [
    {
     "name": "stdout",
     "output_type": "stream",
     "text": [
      "Train data:\n",
      "features: (170884, 29)\n",
      "frauds: 360\n",
      "\n",
      "Valid data:\n",
      "features: (56961, 29)\n",
      "frauds: 57\n",
      "\n",
      "Test data:\n",
      "features: (56962, 29)\n",
      "frauds: 75\n"
     ]
    }
   ],
   "source": [
    "# split data\n",
    "train = {\n",
    "    'features': features[train_idxs],\n",
    "    'targets': targets[train_idxs],\n",
    "}\n",
    "\n",
    "valid = {\n",
    "    'features': features[valid_idxs],\n",
    "    'targets': targets[valid_idxs],\n",
    "}\n",
    "\n",
    "test = {\n",
    "    'features': features[test_idxs],\n",
    "    'targets': targets[test_idxs],\n",
    "}\n",
    "\n",
    "print(\"Train data:\")\n",
    "print(\"features:\", train['features'].shape)\n",
    "print(\"frauds:\", train['targets'].sum())\n",
    "print()\n",
    "print(\"Valid data:\")\n",
    "print(\"features:\", valid['features'].shape)\n",
    "print(\"frauds:\", valid['targets'].sum())\n",
    "print()\n",
    "print(\"Test data:\")\n",
    "print(\"features:\", test['features'].shape)\n",
    "print(\"frauds:\", test['targets'].sum())"
   ]
  },
  {
   "cell_type": "markdown",
   "metadata": {
    "id": "l_kwPWkFlHJR"
   },
   "source": [
    "## Create preprocessing pipeline and transform data"
   ]
  },
  {
   "cell_type": "code",
   "execution_count": 9,
   "metadata": {
    "collapsed": true,
    "scrolled": true
   },
   "outputs": [],
   "source": [
    "preprocessor = StandardScaler()\n",
    "\n",
    "X_train = preprocessor.fit_transform(train['features'])\n",
    "X_valid = preprocessor.transform(valid['features'])\n",
    "X_test = preprocessor.transform(test['features'])\n",
    "\n",
    "y_train = train['targets']\n",
    "y_valid = valid['targets']\n",
    "y_test = test['targets']\n",
    "\n",
    "#pickle.dump(preprocessor, open('preprocessor.pkl', 'wb'))\n",
    "#preprocessor = pickle.load(open('preprocessor.pkl', 'rb'))"
   ]
  },
  {
   "cell_type": "markdown",
   "metadata": {
    "id": "LO4mR-g0lHJT"
   },
   "source": [
    "## Build a binary classification model"
   ]
  },
  {
   "cell_type": "code",
   "execution_count": 20,
   "metadata": {
    "id": "2jiKeIMIlHJU",
    "scrolled": true
   },
   "outputs": [
    {
     "name": "stdout",
     "output_type": "stream",
     "text": [
      "Model: \"sequential_1\"\n",
      "_________________________________________________________________\n",
      "Layer (type)                 Output Shape              Param #   \n",
      "=================================================================\n",
      "dense_4 (Dense)              (None, 256)               7680      \n",
      "_________________________________________________________________\n",
      "dense_5 (Dense)              (None, 256)               65792     \n",
      "_________________________________________________________________\n",
      "batch_normalization_2 (Batch (None, 256)               1024      \n",
      "_________________________________________________________________\n",
      "dropout_2 (Dropout)          (None, 256)               0         \n",
      "_________________________________________________________________\n",
      "dense_6 (Dense)              (None, 256)               65792     \n",
      "_________________________________________________________________\n",
      "batch_normalization_3 (Batch (None, 256)               1024      \n",
      "_________________________________________________________________\n",
      "dropout_3 (Dropout)          (None, 256)               0         \n",
      "_________________________________________________________________\n",
      "dense_7 (Dense)              (None, 1)                 257       \n",
      "=================================================================\n",
      "Total params: 141,569\n",
      "Trainable params: 140,545\n",
      "Non-trainable params: 1,024\n",
      "_________________________________________________________________\n"
     ]
    }
   ],
   "source": [
    "def build_model(input_dim):\n",
    "    model = keras.Sequential([\n",
    "            keras.layers.Dense(256, activation=\"relu\", input_shape=(input_dim,)),\n",
    "\n",
    "            keras.layers.Dense(256, activation=\"relu\"),\n",
    "            keras.layers.BatchNormalization(),\n",
    "            keras.layers.Dropout(0.3),\n",
    "\n",
    "            keras.layers.Dense(256, activation=\"relu\"),\n",
    "            keras.layers.BatchNormalization(),\n",
    "            keras.layers.Dropout(0.3),\n",
    "\n",
    "            keras.layers.Dense(1, activation=\"sigmoid\"),\n",
    "        ])\n",
    "    return model\n",
    "\n",
    "model = build_model(input_dim=X_train.shape[-1])\n",
    "model.summary()"
   ]
  },
  {
   "cell_type": "code",
   "execution_count": 11,
   "metadata": {},
   "outputs": [
    {
     "data": {
      "image/png": "[encoded data removed]",
      "text/plain": [
       "<IPython.core.display.Image object>"
      ]
     },
     "execution_count": 11,
     "metadata": {},
     "output_type": "execute_result"
    }
   ],
   "source": [
    "keras.utils.plot_model(model, show_shapes=True)"
   ]
  },
  {
   "cell_type": "markdown",
   "metadata": {
    "id": "WSj7vc3QlHJV"
   },
   "source": [
    "## Train the model"
   ]
  },
  {
   "cell_type": "code",
   "execution_count": 12,
   "metadata": {},
   "outputs": [
    {
     "name": "stdout",
     "output_type": "stream",
     "text": [
      "Number of positive samples in training data: 360 (0.21% of total)\n"
     ]
    }
   ],
   "source": [
    "## Analyze class imbalance in the targets and compute class_weights\n",
    "counts = np.bincount(train['targets'][:, 0])\n",
    "\n",
    "ratio = counts[1], 100 * float(counts[1]) / len(train['targets'])\n",
    "print( \"Number of positive samples in training data: {} ({:.2f}% of total)\".format(*ratio)) \n",
    "\n",
    "# define class weights for fitting the model \n",
    "class_weight = {\n",
    "    0: 1.0 / counts[0],\n",
    "    1: 1.0 / counts[1]\n",
    "}"
   ]
  },
  {
   "cell_type": "code",
   "execution_count": 13,
   "metadata": {
    "id": "YrnfwcZPlHJY",
    "scrolled": true
   },
   "outputs": [
    {
     "name": "stdout",
     "output_type": "stream",
     "text": [
      "Epoch 1/100\n"
     ]
    },
    {
     "name": "stderr",
     "output_type": "stream",
     "text": [
      "2022-12-13 09:05:07.238752: I tensorflow/compiler/mlir/mlir_graph_optimization_pass.cc:185] None of the MLIR Optimization Passes are enabled (registered 2)\n"
     ]
    },
    {
     "name": "stdout",
     "output_type": "stream",
     "text": [
      "668/668 - 4s - loss: 5.8562e-06 - roc_auc: 0.9202 - val_loss: 0.5670 - val_roc_auc: 0.9514\n",
      "Epoch 2/100\n",
      "668/668 - 3s - loss: 3.7759e-06 - roc_auc: 0.9602 - val_loss: 0.3822 - val_roc_auc: 0.9493\n",
      "Epoch 3/100\n",
      "668/668 - 3s - loss: 2.8312e-06 - roc_auc: 0.9732 - val_loss: 0.2477 - val_roc_auc: 0.9561\n",
      "Epoch 4/100\n",
      "668/668 - 3s - loss: 2.2260e-06 - roc_auc: 0.9838 - val_loss: 0.1783 - val_roc_auc: 0.9550\n",
      "Epoch 5/100\n",
      "668/668 - 3s - loss: 1.8725e-06 - roc_auc: 0.9890 - val_loss: 0.1474 - val_roc_auc: 0.9552\n",
      "Epoch 6/100\n",
      "668/668 - 3s - loss: 1.5258e-06 - roc_auc: 0.9916 - val_loss: 0.1083 - val_roc_auc: 0.9624\n",
      "Epoch 7/100\n",
      "668/668 - 3s - loss: 1.4239e-06 - roc_auc: 0.9929 - val_loss: 0.0920 - val_roc_auc: 0.9593\n",
      "Epoch 8/100\n",
      "668/668 - 3s - loss: 1.1284e-06 - roc_auc: 0.9971 - val_loss: 0.0734 - val_roc_auc: 0.9585\n",
      "Epoch 9/100\n",
      "668/668 - 3s - loss: 1.1275e-06 - roc_auc: 0.9953 - val_loss: 0.0624 - val_roc_auc: 0.9529\n",
      "Epoch 10/100\n",
      "668/668 - 3s - loss: 8.5043e-07 - roc_auc: 0.9981 - val_loss: 0.0527 - val_roc_auc: 0.9511\n",
      "Epoch 11/100\n",
      "668/668 - 3s - loss: 9.0077e-07 - roc_auc: 0.9976 - val_loss: 0.0581 - val_roc_auc: 0.9549\n",
      "Epoch 12/100\n",
      "668/668 - 3s - loss: 8.2636e-07 - roc_auc: 0.9980 - val_loss: 0.0431 - val_roc_auc: 0.9591\n",
      "Epoch 13/100\n",
      "668/668 - 3s - loss: 9.0655e-07 - roc_auc: 0.9937 - val_loss: 0.0445 - val_roc_auc: 0.9557\n",
      "Epoch 14/100\n",
      "668/668 - 3s - loss: 6.4119e-07 - roc_auc: 0.9988 - val_loss: 0.0334 - val_roc_auc: 0.9472\n",
      "Epoch 15/100\n",
      "668/668 - 3s - loss: 5.6369e-07 - roc_auc: 0.9990 - val_loss: 0.0321 - val_roc_auc: 0.9497\n",
      "Epoch 16/100\n",
      "668/668 - 3s - loss: 5.5896e-07 - roc_auc: 0.9990 - val_loss: 0.0297 - val_roc_auc: 0.9429\n",
      "Epoch 17/100\n",
      "668/668 - 3s - loss: 5.7708e-07 - roc_auc: 0.9988 - val_loss: 0.0258 - val_roc_auc: 0.9237\n",
      "Epoch 18/100\n",
      "668/668 - 3s - loss: 5.0853e-07 - roc_auc: 0.9992 - val_loss: 0.0321 - val_roc_auc: 0.9569\n",
      "Epoch 19/100\n",
      "668/668 - 3s - loss: 4.9855e-07 - roc_auc: 0.9990 - val_loss: 0.0284 - val_roc_auc: 0.9513\n",
      "Epoch 20/100\n",
      "668/668 - 3s - loss: 4.3458e-07 - roc_auc: 0.9993 - val_loss: 0.0208 - val_roc_auc: 0.9377\n",
      "Epoch 21/100\n",
      "668/668 - 3s - loss: 4.8090e-07 - roc_auc: 0.9991 - val_loss: 0.0210 - val_roc_auc: 0.9455\n",
      "Epoch 22/100\n",
      "668/668 - 3s - loss: 7.2867e-07 - roc_auc: 0.9968 - val_loss: 0.0257 - val_roc_auc: 0.9604\n",
      "Epoch 23/100\n",
      "668/668 - 3s - loss: 4.5879e-07 - roc_auc: 0.9991 - val_loss: 0.0235 - val_roc_auc: 0.9604\n",
      "Epoch 24/100\n",
      "668/668 - 3s - loss: 6.2903e-07 - roc_auc: 0.9971 - val_loss: 0.0228 - val_roc_auc: 0.9375\n",
      "Epoch 25/100\n",
      "668/668 - 3s - loss: 4.1684e-07 - roc_auc: 0.9991 - val_loss: 0.0284 - val_roc_auc: 0.9466\n",
      "Epoch 26/100\n",
      "668/668 - 3s - loss: 3.6312e-07 - roc_auc: 0.9993 - val_loss: 0.0224 - val_roc_auc: 0.9504\n",
      "Epoch 27/100\n",
      "668/668 - 3s - loss: 2.5437e-07 - roc_auc: 0.9996 - val_loss: 0.0136 - val_roc_auc: 0.9286\n",
      "Epoch 28/100\n",
      "668/668 - 3s - loss: 4.4821e-07 - roc_auc: 0.9974 - val_loss: 0.0191 - val_roc_auc: 0.9290\n",
      "Epoch 29/100\n",
      "668/668 - 3s - loss: 3.3234e-07 - roc_auc: 0.9993 - val_loss: 0.0185 - val_roc_auc: 0.9474\n",
      "Epoch 30/100\n",
      "668/668 - 3s - loss: 4.1843e-07 - roc_auc: 0.9974 - val_loss: 0.0186 - val_roc_auc: 0.9327\n",
      "Epoch 31/100\n",
      "668/668 - 3s - loss: 2.5406e-07 - roc_auc: 0.9995 - val_loss: 0.0129 - val_roc_auc: 0.9129\n",
      "Epoch 32/100\n",
      "668/668 - 3s - loss: 3.5960e-07 - roc_auc: 0.9993 - val_loss: 0.0118 - val_roc_auc: 0.9133\n",
      "Epoch 33/100\n",
      "668/668 - 3s - loss: 2.4023e-07 - roc_auc: 0.9996 - val_loss: 0.0125 - val_roc_auc: 0.9144\n",
      "Epoch 34/100\n",
      "668/668 - 3s - loss: 2.7871e-07 - roc_auc: 0.9994 - val_loss: 0.0142 - val_roc_auc: 0.9311\n",
      "Epoch 35/100\n",
      "668/668 - 3s - loss: 4.0889e-07 - roc_auc: 0.9975 - val_loss: 0.0124 - val_roc_auc: 0.9183\n",
      "Epoch 36/100\n",
      "668/668 - 3s - loss: 2.0014e-07 - roc_auc: 0.9996 - val_loss: 0.0086 - val_roc_auc: 0.9082\n",
      "Epoch 37/100\n",
      "668/668 - 3s - loss: 2.2074e-07 - roc_auc: 0.9996 - val_loss: 0.0106 - val_roc_auc: 0.9214\n",
      "Epoch 38/100\n",
      "668/668 - 3s - loss: 2.2150e-07 - roc_auc: 0.9995 - val_loss: 0.0123 - val_roc_auc: 0.9136\n",
      "Epoch 39/100\n",
      "668/668 - 3s - loss: 2.7217e-07 - roc_auc: 0.9995 - val_loss: 0.0090 - val_roc_auc: 0.9220\n",
      "Epoch 40/100\n",
      "668/668 - 3s - loss: 2.7084e-07 - roc_auc: 0.9995 - val_loss: 0.0168 - val_roc_auc: 0.9312\n",
      "Epoch 41/100\n",
      "668/668 - 3s - loss: 2.2631e-07 - roc_auc: 0.9995 - val_loss: 0.0136 - val_roc_auc: 0.9309\n",
      "Epoch 42/100\n",
      "668/668 - 3s - loss: 2.7059e-07 - roc_auc: 0.9994 - val_loss: 0.0140 - val_roc_auc: 0.9137\n",
      "Epoch 43/100\n",
      "668/668 - 3s - loss: 2.2547e-07 - roc_auc: 0.9995 - val_loss: 0.0140 - val_roc_auc: 0.9305\n",
      "Epoch 44/100\n",
      "668/668 - 3s - loss: 2.3148e-07 - roc_auc: 0.9995 - val_loss: 0.0154 - val_roc_auc: 0.9299\n",
      "Epoch 45/100\n",
      "668/668 - 3s - loss: 1.7641e-07 - roc_auc: 0.9996 - val_loss: 0.0102 - val_roc_auc: 0.9233\n",
      "Epoch 46/100\n",
      "668/668 - 3s - loss: 1.7355e-07 - roc_auc: 0.9997 - val_loss: 0.0092 - val_roc_auc: 0.9241\n"
     ]
    }
   ],
   "source": [
    "#model = build_model(input_dim=X_train.shape[-1])\n",
    "model.compile(optimizer=keras.optimizers.Adam(1e-4), loss=\"binary_crossentropy\", metrics=[keras.metrics.AUC(name='roc_auc')])\n",
    "\n",
    "# Early Stopping Callback\n",
    "callbacks = [\n",
    "    keras.callbacks.EarlyStopping(monitor='val_loss', patience=10, min_delta=0, mode='auto', baseline=None, restore_best_weights=True)\n",
    "]\n",
    "\n",
    "history = model.fit(\n",
    "    X_train,\n",
    "    y_train,\n",
    "    batch_size=256,\n",
    "    epochs=100,\n",
    "    verbose=2,\n",
    "    callbacks=callbacks,\n",
    "    validation_data=(X_valid, y_valid),\n",
    "    class_weight=class_weight,\n",
    ")\n",
    "\n",
    "#model.save('fraud_keras_model')\n",
    "#model.load('fraud_keras_model')"
   ]
  },
  {
   "cell_type": "code",
   "execution_count": 14,
   "metadata": {
    "scrolled": true
   },
   "outputs": [
    {
     "name": "stdout",
     "output_type": "stream",
     "text": [
      "best val_loss 0.008576247841119766\n"
     ]
    },
    {
     "data": {
      "text/plain": [
       "<matplotlib.legend.Legend at 0x7f9d243e8590>"
      ]
     },
     "execution_count": 14,
     "metadata": {},
     "output_type": "execute_result"
    },
    {
     "data": {
      "image/png": "[encoded data removed]",
      "text/plain": [
       "<Figure size 576x360 with 1 Axes>"
      ]
     },
     "metadata": {
      "needs_background": "light"
     },
     "output_type": "display_data"
    }
   ],
   "source": [
    "print('best val_loss', min(history.history['val_loss']))\n",
    "                                       \n",
    "fig, axs = plt.subplots(1, 1, figsize=(8, 5), sharex=True)\n",
    "axs.plot(history.history['loss'], label='train')\n",
    "axs.plot(history.history['val_loss'], label='valid')\n",
    "\n",
    "axs.set_xlim([0, len(history.history['loss'])])\n",
    "axs.set_xlabel('epoch')\n",
    "axs.set_ylabel('score')\n",
    "axs.set_title(\"Evolution of loss\")\n",
    "axs.legend()"
   ]
  },
  {
   "cell_type": "markdown",
   "metadata": {},
   "source": [
    "## Model evaluation"
   ]
  },
  {
   "cell_type": "code",
   "execution_count": 15,
   "metadata": {},
   "outputs": [
    {
     "name": "stdout",
     "output_type": "stream",
     "text": [
      "56/56 [==============================] - 0s 2ms/step - loss: 0.0081 - roc_auc: 0.9241\n"
     ]
    },
    {
     "data": {
      "text/plain": [
       "{'loss': 0.008075742051005363, 'roc_auc': 0.9240657687187195}"
      ]
     },
     "execution_count": 15,
     "metadata": {},
     "output_type": "execute_result"
    }
   ],
   "source": [
    "# compute metrics with keras\n",
    "metrics_values = model.evaluate(X_test, y_test, batch_size=1024)\n",
    "dict(zip(model.metrics_names, metrics_values))"
   ]
  },
  {
   "cell_type": "code",
   "execution_count": 16,
   "metadata": {
    "collapsed": true,
    "scrolled": true
   },
   "outputs": [],
   "source": [
    "# compute predictions\n",
    "y_pred = model.predict(X_test, batch_size=1024)"
   ]
  },
  {
   "cell_type": "code",
   "execution_count": 17,
   "metadata": {},
   "outputs": [
    {
     "data": {
      "image/png": "[encoded data removed]",
      "text/plain": [
       "<Figure size 432x288 with 1 Axes>"
      ]
     },
     "metadata": {
      "needs_background": "light"
     },
     "output_type": "display_data"
    }
   ],
   "source": [
    "# ROC curve\n",
    "from sklearn.metrics import auc\n",
    "from sklearn.metrics import roc_curve\n",
    "from sklearn.metrics import RocCurveDisplay\n",
    "\n",
    "fpr, tpr, thresholds = roc_curve(y_test.ravel(), y_pred.ravel())\n",
    "display = RocCurveDisplay(fpr=fpr, tpr=tpr, roc_auc=auc(fpr, tpr), estimator_name='fraud model')\n",
    "display.plot();"
   ]
  },
  {
   "cell_type": "code",
   "execution_count": 18,
   "metadata": {},
   "outputs": [
    {
     "data": {
      "image/png": "[encoded data removed]",
      "text/plain": [
       "<Figure size 432x288 with 1 Axes>"
      ]
     },
     "metadata": {
      "needs_background": "light"
     },
     "output_type": "display_data"
    }
   ],
   "source": [
    "# confusion matrix\n",
    "from sklearn.metrics import confusion_matrix\n",
    "from sklearn.metrics import ConfusionMatrixDisplay\n",
    "\n",
    "cm = confusion_matrix(y_test, y_pred>0.5)\n",
    "cm_display = ConfusionMatrixDisplay(cm, display_labels=('Normal', 'Fraud'))\n",
    "cm_display.plot(colorbar=False);"
   ]
  },
  {
   "cell_type": "code",
   "execution_count": 19,
   "metadata": {
    "scrolled": true
   },
   "outputs": [
    {
     "data": {
      "image/png": "[encoded data removed]",
      "text/plain": [
       "<Figure size 576x360 with 1 Axes>"
      ]
     },
     "metadata": {
      "needs_background": "light"
     },
     "output_type": "display_data"
    }
   ],
   "source": [
    "# distribution of scores\n",
    "fig, axs = plt.subplots(1, figsize=(8, 5))\n",
    "\n",
    "idx = 0\n",
    "axs.hist(y_pred.ravel()[y_test.ravel()<1], color='b')\n",
    "axs.hist(y_pred.ravel()[y_test.ravel()>0], color='r')\n",
    "\n",
    "axs.set_xlim([0,1])\n",
    "axs.set_ylim([0,300])\n",
    "axs.set_xlabel('score')\n",
    "axs.set_title(\"Distribution of scores\")\n",
    "\n",
    "plt.show()"
   ]
  },
  {
   "cell_type": "code",
   "execution_count": null,
   "metadata": {
    "collapsed": true,
    "scrolled": true
   },
   "outputs": [],
   "source": []
  }
 ],
 "metadata": {
  "colab": {
   "collapsed_sections": [],
   "name": "imbalanced_classification",
   "provenance": [],
   "toc_visible": true
  },
  "kernelspec": {
   "display_name": "rden-py37-tf-cpu",
   "language": "python",
   "name": "rden-py37-tf-cpu"
  },
  "language_info": {
   "codemirror_mode": {
    "name": "ipython",
    "version": 3
   },
   "file_extension": ".py",
   "mimetype": "text/x-python",
   "name": "python",
   "nbconvert_exporter": "python",
   "pygments_lexer": "ipython3",
   "version": "3.7.7"
  }
 },
 "nbformat": 4,
 "nbformat_minor": 1
}
